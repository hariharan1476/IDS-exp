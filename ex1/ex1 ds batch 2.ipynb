{
 "cells": [
  {
   "cell_type": "code",
   "execution_count": null,
   "id": "6cb35f24-db5e-485c-b02f-c3986b24f058",
   "metadata": {},
   "outputs": [],
   "source": [
    "# EX NO:1 Introduction to Data Science with Python Programming"
   ]
  },
  {
   "cell_type": "code",
   "execution_count": null,
   "id": "6665b26c-859f-4fb8-8840-fa9530a3f804",
   "metadata": {},
   "outputs": [],
   "source": [
    "DATE : 11/12/2023\n",
    "REG NO:URK22AI1048"
   ]
  },
  {
   "cell_type": "code",
   "execution_count": null,
   "id": "33030523-e8b2-4bd5-bb4a-c0b15f4e8264",
   "metadata": {},
   "outputs": [],
   "source": [
    "'''\n",
    "AIM\n",
    "    To Write a python program to demonstrate the basics of dictionary, list, set, tuple, array and\n",
    "csv files for data science application.\n",
    "\n",
    "DESCRIPTION\n",
    "            Python is a high-level general-purpose programming language. Python is one of the most\n",
    "popular and widely used programming languages in the world Python is used for data\n",
    "analytics, machine learning, and even design.\n",
    "\n",
    "Lists\n",
    "        Lists are mutable data types in Python. Lists is a 0-based index datatype meaning the index\n",
    "of the first element starts at 0. Lists are used to store multiple items in a single variable.\n",
    "Lists are one of the 4 data types present in Python.\n",
    "\n",
    "Dictionary\n",
    "            Dictionaries are mutable data types in nature meaning they can be updated after they are\n",
    "created. Syntactically they are written in a key, value pair format inside curly braces.\n",
    "\n",
    "Keys\n",
    "        Keys are always unique and there cannot be any duplicates. There is no index in the\n",
    "dictionary meaning they are not ordered. Key is the default iterator and is used to retrieve\n",
    "the value.\n",
    "\n",
    "Tuple\n",
    "        Tuples are the same as lists are with the exception that the data once entered into the tuple\n",
    "cannot be changed no matter what. The only exception is when the data inside the tuple is\n",
    "mutable, only then the tuple data can be changed.\n",
    "\n",
    "Sets\n",
    "        Sets are a collection of unordered elements that are unique. Meaning that even if the data is\n",
    "repeated more than one time, it would be entered into the set only once. It resembles the\n",
    "sets that you have learnt in arithmetic. The operations also are the same as is with the\n",
    "arithmetic sets.\n",
    "\n",
    "Numpy Array\n",
    "        An array is a central data structure of the NumPy library. An array is a grid of values and it\n",
    "contains information about the raw data, how to locate an element, and how to interpret an\n",
    "element.\n",
    "\n",
    "CSV Files\n",
    "        CSV stands for “Comma Separated Values.” It is the simplest form of storing data in tabular\n",
    "form as plain text. It is important to know to work with CSV because we mostly rely on\n",
    "CSV data in our day-to-day lives as data scientists.\n",
    "\n",
    "\n",
    "'''\n"
   ]
  },
  {
   "cell_type": "code",
   "execution_count": 5,
   "id": "5ab84ad3-6fe9-4ffe-a35b-6ec951408695",
   "metadata": {},
   "outputs": [
    {
     "name": "stdin",
     "output_type": "stream",
     "text": [
      "Enter the number of subjects:  2\n",
      "Enter subject code:  13\n",
      "Enter subject name:  maths\n",
      "Enter subject code:  14\n",
      "Enter subject name:  science\n",
      "Enter a subject code to find its name:  14\n"
     ]
    },
    {
     "name": "stdout",
     "output_type": "stream",
     "text": [
      "The subject name for code 14 is: science\n"
     ]
    }
   ],
   "source": [
    "#URK22AI1048 Q1\n",
    "\n",
    "sub_dict = {}\n",
    "\n",
    "num_entries = int(input(\"Enter the number of subjects: \"))\n",
    "for _ in range(num_entries):\n",
    "    sub_code = input(\"Enter subject code: \")\n",
    "    sub_name = input(\"Enter subject name: \")\n",
    "    sub_dict[sub_code] = sub_name\n",
    "\n",
    "\n",
    "search_sub_code = input(\"Enter a subject code to find its name: \")\n",
    "\n",
    "sub_name_found = sub_dict.get(search_sub_code)\n",
    "\n",
    "\n",
    "if sub_name_found is not None:\n",
    "    print(f\"The subject name for code {search_sub_code} is: {sub_name_found}\")\n",
    "else:\n",
    "    print(f\"Subject code {search_sub_code} not found in the dictionary.\")"
   ]
  },
  {
   "cell_type": "code",
   "execution_count": 6,
   "id": "b4c6e170-e3f6-4824-8d94-2ffe36b5e3b6",
   "metadata": {},
   "outputs": [
    {
     "name": "stdin",
     "output_type": "stream",
     "text": [
      "Enter the number of words:  2\n",
      "Enter a word:  hi\n",
      "Enter a word:  hari\n",
      "Enter the minimum length (n):  3\n"
     ]
    },
    {
     "name": "stdout",
     "output_type": "stream",
     "text": [
      "List of words longer than 3: ['hari']\n"
     ]
    }
   ],
   "source": [
    "#URK22AI1048 Q2\n",
    "\n",
    "word_list = []\n",
    "\n",
    "num_words = int(input(\"Enter the number of words: \"))\n",
    "for _ in range(num_words):\n",
    "    word = input(\"Enter a word: \")\n",
    "    word_list.append(word)\n",
    "\n",
    "\n",
    "n = int(input(\"Enter the minimum length (n): \"))\n",
    "\n",
    "\n",
    "result_list = [word for word in word_list if len(word) > n]\n",
    "\n",
    "\n",
    "print(f\"List of words longer than {n}: {result_list}\")\n"
   ]
  },
  {
   "cell_type": "code",
   "execution_count": 7,
   "id": "0636f899-3ea5-4d91-8904-0d585f1934ed",
   "metadata": {},
   "outputs": [
    {
     "name": "stdin",
     "output_type": "stream",
     "text": [
      "Enter the number of values:  2\n",
      "Enter a value:  1\n",
      "Enter a value:  3\n",
      "Enter a value to check if it's present in the set:  3\n"
     ]
    },
    {
     "name": "stdout",
     "output_type": "stream",
     "text": [
      "3 is present in the set.\n"
     ]
    }
   ],
   "source": [
    "#URK22AI1048 Q3\n",
    "\n",
    "my_set = set()\n",
    "\n",
    "\n",
    "num_values = int(input(\"Enter the number of values: \"))\n",
    "for _ in range(num_values):\n",
    "    value = input(\"Enter a value: \")\n",
    "    my_set.add(value)\n",
    "\n",
    "\n",
    "search_value = input(\"Enter a value to check if it's present in the set: \")\n",
    "\n",
    "if search_value in my_set:\n",
    "    print(f\"{search_value} is present in the set.\")\n",
    "else:\n",
    "    print(f\"{search_value} is not present in the set.\")\n"
   ]
  },
  {
   "cell_type": "code",
   "execution_count": 9,
   "id": "1da44c0d-5184-45d5-975c-6bd2529e4346",
   "metadata": {},
   "outputs": [
    {
     "name": "stdin",
     "output_type": "stream",
     "text": [
      "Enter the number of values:  3\n",
      "Enter a value:  1\n",
      "Enter a value:  2\n",
      "Enter a value:  2\n",
      "Enter a number to count its occurrences in the tuple:  2\n"
     ]
    },
    {
     "name": "stdout",
     "output_type": "stream",
     "text": [
      "Number of occurrences of 2 in the tuple: 2\n"
     ]
    }
   ],
   "source": [
    "#URK22AI1048 Q4\n",
    "\n",
    "my_tuple = ()\n",
    "\n",
    "\n",
    "num_values = int(input(\"Enter the number of values: \"))\n",
    "my_tuple = tuple(int(input(\"Enter a value: \")) for _ in range(num_values))\n",
    "\n",
    "\n",
    "search_number = int(input(\"Enter a number to count its occurrences in the tuple: \"))\n",
    "\n",
    "\n",
    "occurrences = my_tuple.count(search_number)\n",
    "\n",
    "\n",
    "print(f\"Number of occurrences of {search_number} in the tuple: {occurrences}\")\n"
   ]
  },
  {
   "cell_type": "code",
   "execution_count": 11,
   "id": "99c125e7-e657-4001-9f68-7e9c5e42a23c",
   "metadata": {},
   "outputs": [
    {
     "name": "stdout",
     "output_type": "stream",
     "text": [
      "Matrix 1:\n",
      "[[1 2 3]\n",
      " [4 5 6]\n",
      " [7 8 9]]\n",
      "\n",
      "Matrix 2:\n",
      "[[9 8 7]\n",
      " [6 5 4]\n",
      " [3 2 1]]\n",
      "\n",
      "Result Matrix (Subtraction):\n",
      "[[-8 -6 -4]\n",
      " [-2  0  2]\n",
      " [ 4  6  8]]\n"
     ]
    }
   ],
   "source": [
    "#URK22AI1048 Q5\n",
    "import numpy as np\n",
    "\n",
    "matrix1 = np.array([[1, 2, 3], [4, 5, 6], [7, 8, 9]])\n",
    "matrix2 = np.array([[9, 8, 7], [6, 5, 4], [3, 2, 1]])\n",
    "\n",
    "result_matrix = matrix1 - matrix2\n",
    "\n",
    "print(\"Matrix 1:\")\n",
    "print(matrix1)\n",
    "print(\"\\nMatrix 2:\")\n",
    "print(matrix2)\n",
    "print(\"\\nResult Matrix (Subtraction):\")\n",
    "print(result_matrix)\n"
   ]
  },
  {
   "cell_type": "code",
   "execution_count": 3,
   "id": "f5616cdd-9a4a-44ec-89e0-a80b9f64a94a",
   "metadata": {},
   "outputs": [
    {
     "name": "stdout",
     "output_type": "stream",
     "text": [
      "   pclass  survived                                             name     sex  \\\n",
      "0     1.0       1.0                    Allen, Miss. Elisabeth Walton  female   \n",
      "1     1.0       1.0                   Allison, Master. Hudson Trevor    male   \n",
      "2     1.0       0.0                     Allison, Miss. Helen Loraine  female   \n",
      "3     1.0       0.0             Allison, Mr. Hudson Joshua Creighton    male   \n",
      "4     1.0       0.0  Allison, Mrs. Hudson J C (Bessie Waldo Daniels)  female   \n",
      "\n",
      "       age  sibsp  parch  ticket      fare    cabin embarked boat   body  \\\n",
      "0  29.0000    0.0    0.0   24160  211.3375       B5        S    2    NaN   \n",
      "1   0.9167    1.0    2.0  113781  151.5500  C22 C26        S   11    NaN   \n",
      "2   2.0000    1.0    2.0  113781  151.5500  C22 C26        S  NaN    NaN   \n",
      "3  30.0000    1.0    2.0  113781  151.5500  C22 C26        S  NaN  135.0   \n",
      "4  25.0000    1.0    2.0  113781  151.5500  C22 C26        S  NaN    NaN   \n",
      "\n",
      "                         home.dest  \n",
      "0                     St Louis, MO  \n",
      "1  Montreal, PQ / Chesterville, ON  \n",
      "2  Montreal, PQ / Chesterville, ON  \n",
      "3  Montreal, PQ / Chesterville, ON  \n",
      "4  Montreal, PQ / Chesterville, ON  \n"
     ]
    }
   ],
   "source": [
    "#URK22AI1048 Q6;\n",
    "import pandas as pd\n",
    "\n",
    "df = pd.read_csv('titanic3.csv')\n",
    "\n",
    "print(df.head())\n"
   ]
  },
  {
   "cell_type": "code",
   "execution_count": 16,
   "id": "03a758eb-de58-4f1d-bf18-6aa31a6f27ce",
   "metadata": {
    "tags": []
   },
   "outputs": [
    {
     "data": {
      "text/plain": [
       "18340"
      ]
     },
     "execution_count": 16,
     "metadata": {},
     "output_type": "execute_result"
    }
   ],
   "source": [
    "df.size"
   ]
  },
  {
   "cell_type": "code",
   "execution_count": 15,
   "id": "1525f4ef-c72d-4222-aee7-4c1c94c73982",
   "metadata": {
    "tags": []
   },
   "outputs": [
    {
     "data": {
      "text/plain": [
       "(1310, 14)"
      ]
     },
     "execution_count": 15,
     "metadata": {},
     "output_type": "execute_result"
    }
   ],
   "source": [
    "df.shape"
   ]
  },
  {
   "cell_type": "code",
   "execution_count": 14,
   "id": "6fc500f9-e6cb-4e6e-b811-451e30a090e3",
   "metadata": {
    "tags": []
   },
   "outputs": [
    {
     "data": {
      "text/plain": [
       "2"
      ]
     },
     "execution_count": 14,
     "metadata": {},
     "output_type": "execute_result"
    }
   ],
   "source": [
    "df.ndim"
   ]
  },
  {
   "cell_type": "code",
   "execution_count": 4,
   "id": "b3473527-e39f-448a-a951-b9cf681936d1",
   "metadata": {
    "tags": []
   },
   "outputs": [
    {
     "data": {
      "text/plain": [
       "<bound method DataFrame.info of       pclass  survived                                             name  \\\n",
       "0        1.0       1.0                    Allen, Miss. Elisabeth Walton   \n",
       "1        1.0       1.0                   Allison, Master. Hudson Trevor   \n",
       "2        1.0       0.0                     Allison, Miss. Helen Loraine   \n",
       "3        1.0       0.0             Allison, Mr. Hudson Joshua Creighton   \n",
       "4        1.0       0.0  Allison, Mrs. Hudson J C (Bessie Waldo Daniels)   \n",
       "...      ...       ...                                              ...   \n",
       "1305     3.0       0.0                            Zabour, Miss. Thamine   \n",
       "1306     3.0       0.0                        Zakarian, Mr. Mapriededer   \n",
       "1307     3.0       0.0                              Zakarian, Mr. Ortin   \n",
       "1308     3.0       0.0                               Zimmerman, Mr. Leo   \n",
       "1309     NaN       NaN                                              NaN   \n",
       "\n",
       "         sex      age  sibsp  parch  ticket      fare    cabin embarked boat  \\\n",
       "0     female  29.0000    0.0    0.0   24160  211.3375       B5        S    2   \n",
       "1       male   0.9167    1.0    2.0  113781  151.5500  C22 C26        S   11   \n",
       "2     female   2.0000    1.0    2.0  113781  151.5500  C22 C26        S  NaN   \n",
       "3       male  30.0000    1.0    2.0  113781  151.5500  C22 C26        S  NaN   \n",
       "4     female  25.0000    1.0    2.0  113781  151.5500  C22 C26        S  NaN   \n",
       "...      ...      ...    ...    ...     ...       ...      ...      ...  ...   \n",
       "1305  female      NaN    1.0    0.0    2665   14.4542      NaN        C  NaN   \n",
       "1306    male  26.5000    0.0    0.0    2656    7.2250      NaN        C  NaN   \n",
       "1307    male  27.0000    0.0    0.0    2670    7.2250      NaN        C  NaN   \n",
       "1308    male  29.0000    0.0    0.0  315082    7.8750      NaN        S  NaN   \n",
       "1309     NaN      NaN    NaN    NaN     NaN       NaN      NaN      NaN  NaN   \n",
       "\n",
       "       body                        home.dest  \n",
       "0       NaN                     St Louis, MO  \n",
       "1       NaN  Montreal, PQ / Chesterville, ON  \n",
       "2       NaN  Montreal, PQ / Chesterville, ON  \n",
       "3     135.0  Montreal, PQ / Chesterville, ON  \n",
       "4       NaN  Montreal, PQ / Chesterville, ON  \n",
       "...     ...                              ...  \n",
       "1305    NaN                              NaN  \n",
       "1306  304.0                              NaN  \n",
       "1307    NaN                              NaN  \n",
       "1308    NaN                              NaN  \n",
       "1309    NaN                              NaN  \n",
       "\n",
       "[1310 rows x 14 columns]>"
      ]
     },
     "execution_count": 4,
     "metadata": {},
     "output_type": "execute_result"
    }
   ],
   "source": [
    "df.info"
   ]
  },
  {
   "cell_type": "code",
   "execution_count": 8,
   "id": "ee0a9273-05c0-402e-89ba-2c406bcf6d61",
   "metadata": {
    "tags": []
   },
   "outputs": [
    {
     "data": {
      "text/plain": [
       "<bound method NDFrame.describe of       pclass  survived                                             name  \\\n",
       "0        1.0       1.0                    Allen, Miss. Elisabeth Walton   \n",
       "1        1.0       1.0                   Allison, Master. Hudson Trevor   \n",
       "2        1.0       0.0                     Allison, Miss. Helen Loraine   \n",
       "3        1.0       0.0             Allison, Mr. Hudson Joshua Creighton   \n",
       "4        1.0       0.0  Allison, Mrs. Hudson J C (Bessie Waldo Daniels)   \n",
       "...      ...       ...                                              ...   \n",
       "1305     3.0       0.0                            Zabour, Miss. Thamine   \n",
       "1306     3.0       0.0                        Zakarian, Mr. Mapriededer   \n",
       "1307     3.0       0.0                              Zakarian, Mr. Ortin   \n",
       "1308     3.0       0.0                               Zimmerman, Mr. Leo   \n",
       "1309     NaN       NaN                                              NaN   \n",
       "\n",
       "         sex      age  sibsp  parch  ticket      fare    cabin embarked boat  \\\n",
       "0     female  29.0000    0.0    0.0   24160  211.3375       B5        S    2   \n",
       "1       male   0.9167    1.0    2.0  113781  151.5500  C22 C26        S   11   \n",
       "2     female   2.0000    1.0    2.0  113781  151.5500  C22 C26        S  NaN   \n",
       "3       male  30.0000    1.0    2.0  113781  151.5500  C22 C26        S  NaN   \n",
       "4     female  25.0000    1.0    2.0  113781  151.5500  C22 C26        S  NaN   \n",
       "...      ...      ...    ...    ...     ...       ...      ...      ...  ...   \n",
       "1305  female      NaN    1.0    0.0    2665   14.4542      NaN        C  NaN   \n",
       "1306    male  26.5000    0.0    0.0    2656    7.2250      NaN        C  NaN   \n",
       "1307    male  27.0000    0.0    0.0    2670    7.2250      NaN        C  NaN   \n",
       "1308    male  29.0000    0.0    0.0  315082    7.8750      NaN        S  NaN   \n",
       "1309     NaN      NaN    NaN    NaN     NaN       NaN      NaN      NaN  NaN   \n",
       "\n",
       "       body                        home.dest  \n",
       "0       NaN                     St Louis, MO  \n",
       "1       NaN  Montreal, PQ / Chesterville, ON  \n",
       "2       NaN  Montreal, PQ / Chesterville, ON  \n",
       "3     135.0  Montreal, PQ / Chesterville, ON  \n",
       "4       NaN  Montreal, PQ / Chesterville, ON  \n",
       "...     ...                              ...  \n",
       "1305    NaN                              NaN  \n",
       "1306  304.0                              NaN  \n",
       "1307    NaN                              NaN  \n",
       "1308    NaN                              NaN  \n",
       "1309    NaN                              NaN  \n",
       "\n",
       "[1310 rows x 14 columns]>"
      ]
     },
     "execution_count": 8,
     "metadata": {},
     "output_type": "execute_result"
    }
   ],
   "source": [
    "df.describe"
   ]
  },
  {
   "cell_type": "code",
   "execution_count": 7,
   "id": "ffcec9fb-76e0-4b1f-a6a0-ab5c584e29ed",
   "metadata": {},
   "outputs": [
    {
     "data": {
      "text/plain": [
       "'\\nRESULT\\nThe above programs were created and executed successfully.\\n'"
      ]
     },
     "execution_count": 7,
     "metadata": {},
     "output_type": "execute_result"
    }
   ],
   "source": [
    "'''\n",
    "RESULT\n",
    "The above programs were created and executed successfully.\n",
    "'''"
   ]
  }
 ],
 "metadata": {
  "kernelspec": {
   "display_name": "Python 3 (ipykernel)",
   "language": "python",
   "name": "python3"
  },
  "language_info": {
   "codemirror_mode": {
    "name": "ipython",
    "version": 3
   },
   "file_extension": ".py",
   "mimetype": "text/x-python",
   "name": "python",
   "nbconvert_exporter": "python",
   "pygments_lexer": "ipython3",
   "version": "3.11.5"
  }
 },
 "nbformat": 4,
 "nbformat_minor": 5
}
