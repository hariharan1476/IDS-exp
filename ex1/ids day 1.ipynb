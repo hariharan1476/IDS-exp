{
 "cells": [
  {
   "cell_type": "code",
   "execution_count": 16,
   "id": "b8a8bee1-46bc-4389-aaa9-8487f4aaae5a",
   "metadata": {
    "tags": []
   },
   "outputs": [
    {
     "name": "stdout",
     "output_type": "stream",
     "text": [
      "['hari', 'sumasen', 'allwin']\n"
     ]
    }
   ],
   "source": [
    "list=['hari','sumasen','allwin']\n",
    "print(list)"
   ]
  },
  {
   "cell_type": "code",
   "execution_count": 22,
   "id": "d3db8921-ae54-4262-a3fa-091589343325",
   "metadata": {
    "tags": []
   },
   "outputs": [
    {
     "name": "stdout",
     "output_type": "stream",
     "text": [
      "('BMW', 'Volvo')\n"
     ]
    }
   ],
   "source": [
    "cars = [\"Ford\", \"Volvo\", \"BMW\"]\n",
    "\n",
    "x = cars[2],cars[1]\n",
    "\n",
    "print(x)"
   ]
  },
  {
   "cell_type": "code",
   "execution_count": 23,
   "id": "2739e5b2-0cff-4c70-877c-8b822499d9ab",
   "metadata": {
    "tags": []
   },
   "outputs": [
    {
     "name": "stdout",
     "output_type": "stream",
     "text": [
      "[17, 15, 4]\n",
      "[10, 12, 9]\n",
      "[11, 13, 18]\n"
     ]
    }
   ],
   "source": [
    "X = [[12,7,3],\n",
    "    [4 ,5,6],\n",
    "    [7 ,8,9]]\n",
    "\n",
    "Y = [[5,8,1],\n",
    "    [6,7,3],\n",
    "    [4,5,9]]\n",
    "\n",
    "result = [[X[i][j] + Y[i][j]  for j in range(len(X[0]))] for i in range(len(X))]\n",
    "\n",
    "for r in result:\n",
    "   print(r)"
   ]
  },
  {
   "cell_type": "code",
   "execution_count": null,
   "id": "d8148ea5-6c5c-47be-9f69-d5366c5f6f80",
   "metadata": {},
   "outputs": [],
   "source": [
    "ex 1 SAMPLE VIVA QUESTIONS"
   ]
  },
  {
   "cell_type": "code",
   "execution_count": 31,
   "id": "52aa896f-79ad-48a8-9480-1345cea7784b",
   "metadata": {
    "tags": []
   },
   "outputs": [
    {
     "name": "stdout",
     "output_type": "stream",
     "text": [
      "23\n"
     ]
    }
   ],
   "source": [
    "#URK22AI1048 1Q\n",
    "list=[2,5,3,13]\n",
    "sum=0\n",
    "for i in range(len(list)):\n",
    "               sum=sum+list[i]\n",
    "print(sum)"
   ]
  },
  {
   "cell_type": "code",
   "execution_count": 37,
   "id": "fb6d54db-9ebf-4e89-b686-761d9eaebbd7",
   "metadata": {
    "tags": []
   },
   "outputs": [
    {
     "name": "stdout",
     "output_type": "stream",
     "text": [
      "[2, 4, 10, 20, 5, 3]\n"
     ]
    }
   ],
   "source": [
    "#URK22AI1048 2Q\n",
    "def Remove(duplicate):\n",
    "    list = []\n",
    "    for num in duplicate:\n",
    "        if num not in list:\n",
    "            list.append(num)\n",
    "    return list\n",
    "     \n",
    "\n",
    "duplicate = [2, 4, 10, 20, 5, 2, 20, 4,3,3]\n",
    "print(Remove(duplicate))"
   ]
  },
  {
   "cell_type": "code",
   "execution_count": 50,
   "id": "8c7978f3-2afd-47b9-8926-b4adf3ed4aca",
   "metadata": {
    "tags": []
   },
   "outputs": [
    {
     "name": "stdout",
     "output_type": "stream",
     "text": [
      "True\n"
     ]
    }
   ],
   "source": [
    "#URK22AI1048 3Q\n",
    "def common_data(l1, l2):\n",
    "    result = False\n",
    "    for x in l1:\n",
    "        for y in l2:\n",
    "            if x == y:\n",
    "                result = True\n",
    "                return result              \n",
    "    return result\n",
    "a = [5, 46, 89, 7,9]\n",
    "b = [1, 2, 4, 5]\n",
    "print(common_data(a,b))"
   ]
  },
  {
   "cell_type": "code",
   "execution_count": 54,
   "id": "f8984764-1b1c-420e-a231-47200a624c24",
   "metadata": {
    "tags": []
   },
   "outputs": [
    {
     "name": "stdout",
     "output_type": "stream",
     "text": [
      "[10, 15, 20, 30]\n"
     ]
    }
   ],
   "source": [
    "#URK22AI1048 4Q\n",
    "l1 = [10, 15, 20, 25, 30, 35, 40]\n",
    "l2 = [25, 40, 35]\n",
    " \n",
    "l3 = []\n",
    "for element in l1:\n",
    "    if element not in l2:\n",
    "        l3.append(element)\n",
    " \n",
    "print(l3)"
   ]
  },
  {
   "cell_type": "code",
   "execution_count": 63,
   "id": "dcad8d81-cad0-4028-80e3-9c9f53b10fd3",
   "metadata": {
    "tags": []
   },
   "outputs": [
    {
     "name": "stdout",
     "output_type": "stream",
     "text": [
      "Present, value = 200\n",
      "Not present\n"
     ]
    }
   ],
   "source": [
    "#URK22AI1048 5Q\n",
    "def checkKey(dic, key):\n",
    "    if key in dic.keys():\n",
    "        print(\"Present, \", end =\"\")\n",
    "        print(\"value =\", dic[key])\n",
    "    else:\n",
    "        print(\"Not present\")\n",
    "\n",
    "\n",
    "dic = {'a': 100, 'b':200, 'c':300}\n",
    "key = 'b'\n",
    "checkKey(dic, key)\n",
    "\n",
    "key = 'w'\n",
    "checkKey(dic, key)\n"
   ]
  },
  {
   "cell_type": "code",
   "execution_count": 65,
   "id": "ff5da13d-e9a8-42a1-ac6b-a2fd318ee171",
   "metadata": {
    "tags": []
   },
   "outputs": [
    {
     "name": "stdout",
     "output_type": "stream",
     "text": [
      "Count of E in WELCOME is : 2\n"
     ]
    }
   ],
   "source": [
    "#URK22AIU1048 6Q\n",
    "str1 = \"WELCOME\"\n",
    "count=0\n",
    "\n",
    "for i in str1:\n",
    "    if i == 'E':\n",
    "        count = count + 1\n",
    "\n",
    "\n",
    "print(\"Count of E in WELCOME is : \"+ str(count))\n"
   ]
  },
  {
   "cell_type": "code",
   "execution_count": 75,
   "id": "5104af15-a23e-467b-9f21-9bb8443d09a5",
   "metadata": {
    "tags": []
   },
   "outputs": [
    {
     "name": "stdout",
     "output_type": "stream",
     "text": [
      "Student Name: hari\n",
      "Department: Computer Science\n"
     ]
    }
   ],
   "source": [
    "#URK22AI1048 7Q\n",
    "\n",
    "students_data = {\n",
    "    '1o48': {'name': 'hari', 'dept': 'Computer Science'},\n",
    "    '1049': {'name': 'Sam', 'dept': 'Electrical Engineering'},\n",
    "    '1050': {'name': 'allwin', 'dept': 'Mechanical Engineering'},\n",
    "\n",
    "}\n",
    "\n",
    "\n",
    "def get_student_info(regno):\n",
    "    return students_data.get(regno, None)\n",
    "\n",
    "\n",
    "registration_number = '1o48'\n",
    "student_info = get_student_info(registration_number)\n",
    "\n",
    "if student_info:\n",
    "    print(f\"Student Name: {student_info['name']}\")\n",
    "    print(f\"Department: {student_info['dept']}\")\n",
    "else:\n",
    "    print(f\"Student with registration number {registration_number} not found.\")\n"
   ]
  },
  {
   "cell_type": "code",
   "execution_count": 71,
   "id": "b197c1d2-71a1-4cff-a797-ce47d9ce3861",
   "metadata": {
    "tags": []
   },
   "outputs": [
    {
     "name": "stdout",
     "output_type": "stream",
     "text": [
      "The winner is candidate3 with 76 votes.\n"
     ]
    }
   ],
   "source": [
    "#URK22AI1048 8Q\n",
    "election = {\"candidate1\": 50, \"candidate2\": 32, \"candidate3\": 76, \"candidate4\": 43, \"candidate5\": 65}\n",
    "\n",
    "\n",
    "winner = max(election, key=election.get)\n",
    "\n",
    "print(f\"The winner is {winner} with {election[winner]} votes.\")\n"
   ]
  },
  {
   "cell_type": "code",
   "execution_count": 74,
   "id": "45475b36-5acd-4ac3-af97-f8da8cdfa5ef",
   "metadata": {
    "tags": []
   },
   "outputs": [
    {
     "name": "stdout",
     "output_type": "stream",
     "text": [
      "Original Tuple: (1, 2, 3, 4, 5)\n",
      "New Tuple: (1, 2, 3, 4, 5, 6)\n"
     ]
    }
   ],
   "source": [
    "#URK22AI1048 9Q\n",
    "original_tuple = (1, 2, 3, 4, 5)\n",
    "\n",
    "new_item = 6\n",
    "\n",
    "new_tuple = original_tuple + (new_item,)\n",
    "\n",
    "\n",
    "print(\"Original Tuple:\", original_tuple)\n",
    "print(\"New Tuple:\", new_tuple)\n"
   ]
  },
  {
   "cell_type": "code",
   "execution_count": 82,
   "id": "cfe00a0d-54c4-4876-ace4-f1023e4632c3",
   "metadata": {
    "tags": []
   },
   "outputs": [
    {
     "name": "stdout",
     "output_type": "stream",
     "text": [
      "The square of 2 is: 4\n",
      "The square of 4 is: 16\n",
      "The square of 6 is: 36\n",
      "The square of 8 is: 64\n",
      "The square of 10 is: 100\n"
     ]
    }
   ],
   "source": [
    "#URK22AI1048 10Q\n",
    "import numpy as np\n",
    "\n",
    "numbers = np.array([2, 4, 6, 8, 10])\n",
    "\n",
    "squares = np.square(numbers)\n",
    "for num, square in zip(numbers, squares):\n",
    "    print(f\"The square of {num} is: {square}\")\n"
   ]
  }
 ],
 "metadata": {
  "kernelspec": {
   "display_name": "Python 3 (ipykernel)",
   "language": "python",
   "name": "python3"
  },
  "language_info": {
   "codemirror_mode": {
    "name": "ipython",
    "version": 3
   },
   "file_extension": ".py",
   "mimetype": "text/x-python",
   "name": "python",
   "nbconvert_exporter": "python",
   "pygments_lexer": "ipython3",
   "version": "3.11.5"
  }
 },
 "nbformat": 4,
 "nbformat_minor": 5
}
